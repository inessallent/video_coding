{
 "cells": [
  {
   "cell_type": "markdown",
   "metadata": {
    "id": "PUkA7KW-vKAq"
   },
   "source": [
    "# Seminar_1 "
   ]
  },
  {
   "cell_type": "markdown",
   "metadata": {},
   "source": [
    "**Exercise 1**"
   ]
  },
  {
   "cell_type": "code",
   "execution_count": 28,
   "metadata": {},
   "outputs": [],
   "source": [
    "class RGBto_YUV:\n",
    "    def YUV_to_RGB(Y, U,V):\n",
    "        B = round(1.163 * (Y -16) + 2.018 * (U - 128))\n",
    "        G = round(1.164 * (Y - 16) - 0.813 * (V - 128) - 0.391 * (U - 128))\n",
    "        R = round(1.164 * (Y - 16) + 1.596 * (V - 128)) \n",
    "        return(R, G, B)\n",
    "    \n",
    "    def RGB_to_YUV(R,G,B):\n",
    "        Y = round(0.257 * R + 0.504 * G + 0.098 * B +16)\n",
    "        U = round(-0.148 * R - 0.291 * G + 0.439 * B +128)\n",
    "        V = round(0.439 * R - 0.368 * G - 0.071 * B +128)\n",
    "        return(Y,U,V)\n",
    "        "
   ]
  },
  {
   "cell_type": "code",
   "execution_count": 29,
   "metadata": {},
   "outputs": [
    {
     "name": "stdout",
     "output_type": "stream",
     "text": [
      "Valores RGB: R = 98, G = 98, B = 98\n"
     ]
    }
   ],
   "source": [
    "Y, U, V = 100, 128, 128\n",
    "\n",
    "# Convertir YUV a RGB\n",
    "R, G, B = RGBto_YUV.YUV_to_RGB(Y, U, V)\n",
    "print(f\"Valores RGB: R = {R}, G = {G}, B = {B}\")"
   ]
  },
  {
   "cell_type": "code",
   "execution_count": 30,
   "metadata": {},
   "outputs": [
    {
     "name": "stdout",
     "output_type": "stream",
     "text": [
      "Valores YUV: Y = 100, U = 128, V = 128\n"
     ]
    }
   ],
   "source": [
    "# Convertir RGB a YUV\n",
    "Y, U, V = RGBto_YUV.RGB_to_YUV(R, G, B)\n",
    "print(f\"Valores YUV: Y = {Y}, U = {U}, V = {V}\")"
   ]
  },
  {
   "cell_type": "markdown",
   "metadata": {},
   "source": [
    "**Exercise 2**"
   ]
  },
  {
   "cell_type": "code",
   "execution_count": 31,
   "metadata": {},
   "outputs": [
    {
     "name": "stdout",
     "output_type": "stream",
     "text": [
      "Error ocurred while running FFmpeg ffmpeg version 2024-09-26-git-f43916e217-full_build-www.gyan.dev Copyright (c) 2000-2024 the FFmpeg developers\n",
      "  built with gcc 13.2.0 (Rev5, Built by MSYS2 project)\n",
      "  configuration: --enable-gpl --enable-version3 --enable-static --disable-w32threads --disable-autodetect --enable-fontconfig --enable-iconv --enable-gnutls --enable-libxml2 --enable-gmp --enable-bzlib --enable-lzma --enable-libsnappy --enable-zlib --enable-librist --enable-libsrt --enable-libssh --enable-libzmq --enable-avisynth --enable-libbluray --enable-libcaca --enable-sdl2 --enable-libaribb24 --enable-libaribcaption --enable-libdav1d --enable-libdavs2 --enable-libopenjpeg --enable-libquirc --enable-libuavs3d --enable-libxevd --enable-libzvbi --enable-libqrencode --enable-librav1e --enable-libsvtav1 --enable-libvvenc --enable-libwebp --enable-libx264 --enable-libx265 --enable-libxavs2 --enable-libxeve --enable-libxvid --enable-libaom --enable-libjxl --enable-libvpx --enable-mediafoundation --enable-libass --enable-frei0r --enable-libfreetype --enable-libfribidi --enable-libharfbuzz --enable-liblensfun --enable-libvidstab --enable-libvmaf --enable-libzimg --enable-amf --enable-cuda-llvm --enable-cuvid --enable-dxva2 --enable-d3d11va --enable-d3d12va --enable-ffnvcodec --enable-libvpl --enable-nvdec --enable-nvenc --enable-vaapi --enable-libshaderc --enable-vulkan --enable-libplacebo --enable-opencl --enable-libcdio --enable-libgme --enable-libmodplug --enable-libopenmpt --enable-libopencore-amrwb --enable-libmp3lame --enable-libshine --enable-libtheora --enable-libtwolame --enable-libvo-amrwbenc --enable-libcodec2 --enable-libilbc --enable-libgsm --enable-liblc3 --enable-libopencore-amrnb --enable-libopus --enable-libspeex --enable-libvorbis --enable-ladspa --enable-libbs2b --enable-libflite --enable-libmysofa --enable-librubberband --enable-libsoxr --enable-chromaprint\n",
      "  libavutil      59. 40.100 / 59. 40.100\n",
      "  libavcodec     61. 20.100 / 61. 20.100\n",
      "  libavformat    61.  8.100 / 61.  8.100\n",
      "  libavdevice    61.  4.100 / 61.  4.100\n",
      "  libavfilter    10.  5.100 / 10.  5.100\n",
      "  libswscale      8.  4.100 /  8.  4.100\n",
      "  libswresample   5.  4.100 /  5.  4.100\n",
      "  libpostproc    58.  4.100 / 58.  4.100\n",
      "[in#0 @ 000001f52e0eeac0] Error opening input: No such file or directory\n",
      "Error opening input file /Users/viktoriaolmedo/Downloads/escut-barca.png.\n",
      "Error opening input files: No such file or directory\n",
      "\n"
     ]
    }
   ],
   "source": [
    "import subprocess\n",
    "\n",
    "input_image = \"/Users/viktoriaolmedo/Downloads/escut-barca.png\"\n",
    "output_image = \"/Users/viktoriaolmedo/Downloads/resized_image.png\"\n",
    "\n",
    "#modificar per path de cada ordinador\n",
    "\n",
    "\n",
    "def resize_image(input_image, output_image, width, height, quality = 28):\n",
    "\n",
    "    command = [\"ffmpeg\",\"-y\",\"-loglevel\", \"info\",\"-i\", input_image,\"-vf\", f\"scale={width}:{height}\",output_image ]\n",
    "\n",
    "    try:\n",
    "        result = subprocess.run(command, check=True, stdout=subprocess.PIPE, stderr=subprocess.PIPE, text=True)\n",
    "        print(result.stdout)\n",
    "        print(f\"Resized image saved to {output_image}\")\n",
    "    except subprocess.CalledProcessError as e:\n",
    "        print(\"Error ocurred while running FFmpeg\", e.stderr)\n",
    "\n",
    "\n",
    "#ffmpeg -i input.jpg -vf scale=320:240 output_320x240.png\n",
    "\n",
    "resize_image(input_image, output_image, 320, 240, quality=28)"
   ]
  },
  {
   "cell_type": "markdown",
   "metadata": {},
   "source": [
    "**Exercise 3**\n",
    "\n",
    "We first implement it with a matrix 8x8 in order to check if the algorithm is really working. "
   ]
  },
  {
   "cell_type": "code",
   "execution_count": 32,
   "metadata": {},
   "outputs": [
    {
     "name": "stdout",
     "output_type": "stream",
     "text": [
      "Matriz 8x8:\n",
      "[[ 1  2  3  4  5  6  7  8]\n",
      " [ 9 10 11 12 13 14 15 16]\n",
      " [17 18 19 20 21 22 23 24]\n",
      " [25 26 27 28 29 30 31 32]\n",
      " [33 34 35 36 37 38 39 40]\n",
      " [41 42 43 44 45 46 47 48]\n",
      " [49 50 51 52 53 54 55 56]\n",
      " [57 58 59 60 61 62 63 64]]\n",
      "\n",
      "Recorrido Zig-Zag:\n",
      "[1, 2, 9, 17, 10, 3, 4, 11, 18, 25, 33, 26, 19, 12, 5, 6, 13, 20, 27, 34, 41, 49, 42, 35, 28, 21, 14, 7, 8, 15, 22, 29, 36, 43, 50, 57, 58, 51, 44, 37, 30, 23, 16, 24, 31, 38, 45, 52, 59, 60, 53, 46, 39, 32, 40, 47, 54, 61, 62, 55, 48, 56, 63, 64]\n"
     ]
    }
   ],
   "source": [
    "import numpy as np\n",
    "\n",
    "matrix = np.arange(1, 65).reshape(8, 8)\n",
    "\n",
    "def zigzag_traversal(matrix):\n",
    "    result = [None] * 64  \n",
    "    n = matrix.shape[0]  \n",
    "    \n",
    "    a = 0  \n",
    "    i = 0 \n",
    "    j = 0 \n",
    "    result[a] = matrix[i][j]  # First value\n",
    "    \n",
    "    while a < 63:  \n",
    "        #step 1: (one to the right)\n",
    "        if j == n - 1:  \n",
    "            i += 1\n",
    "        else:\n",
    "            j += 1\n",
    "\n",
    "        a += 1\n",
    "        if a < 64:\n",
    "            result[a] = matrix[i][j]\n",
    "        \n",
    "        #step 2: (Diagonal down to the left until reaching j = 0)\n",
    "        while i + 1 < n and j - 1 >= 0 and a < 63:\n",
    "            i += 1\n",
    "            j -= 1\n",
    "            a += 1\n",
    "            result[a] = matrix[i][j]\n",
    "        \n",
    "        #step 3: (one down) \n",
    "        if i == n - 1:  \n",
    "            j += 1\n",
    "        else:\n",
    "            i += 1\n",
    "\n",
    "        a += 1\n",
    "        if a < 64:\n",
    "            result[a] = matrix[i][j]\n",
    "        \n",
    "        #step 4: (Diagonal up to the right until reaching i = 0)\n",
    "        while j + 1 < n and i - 1 >= 0 and a < 63:\n",
    "            i -= 1\n",
    "            j += 1\n",
    "            a += 1\n",
    "            result[a] = matrix[i][j]\n",
    "    \n",
    "    return result\n",
    "\n",
    "# Obtener el recorrido zig-zag\n",
    "zigzag_result = zigzag_traversal(matrix)\n",
    "\n",
    "# Mostrar la matriz y el recorrido zig-zag\n",
    "print(\"Matriz 8x8:\")\n",
    "print(matrix)\n",
    "print(\"\\nRecorrido Zig-Zag:\")\n",
    "print(zigzag_result)\n"
   ]
  },
  {
   "cell_type": "markdown",
   "metadata": {},
   "source": [
    "Then we implemented for images. We use the resize_image function generated in the previous exercise in order to obtain a nxn image. Then we implement the zig zag function and obtain the expected output (in Black and White because it was simpler to implement and was not giving us any problem compared to the RGB case). \n",
    "\n",
    "We can try and change the values of the resize image. In order to check if the algorithm is still working for this case with images, we have set the values to 16, because then we can see the complete matrix. But we could also do it for other values and the result would still be correct. "
   ]
  },
  {
   "cell_type": "code",
   "execution_count": 41,
   "metadata": {},
   "outputs": [
    {
     "name": "stdout",
     "output_type": "stream",
     "text": [
      "\n",
      "Resized image saved to /Users/isall/OneDrive/UNI/4_uni/1_trim_4/Audio/video_coding/first_seminar/logo_fcb_resize.jpeg\n",
      "Original Matrix in Black and White:\n",
      "[[215 216 217 216 197 194 156 191 187 158 198 198 216 218 219 215]\n",
      " [215 217 212 214 130 138 110 131 127 128 125 139 215 216 216 215]\n",
      " [216 214 218 214 162 229 107 217 150 140 141 156 219 221 216 216]\n",
      " [220 218 216 219 170 129  84 131 141 141 137 172 221 216 219 216]\n",
      " [214 215 216 222 166  81  68  86 138 143 131 173 220 215 215 216]\n",
      " [217 213 217 215 173 206 100 215 152 140 137 171 218 219 215 218]\n",
      " [213 215 216 213 153 195 118 171 133 133 145 155 210 215 218 215]\n",
      " [211 219 220 190 157 190 147 125 121 132 202 157 189 219 218 216]\n",
      " [217 216 214 196 139 133 120 109  94 111 133 140 197 217 216 216]\n",
      " [215 217 220 215 107  52  53  70  74  58  51 109 215 215 217 215]\n",
      " [209 219 216 211 120  56  57 135 143  55  59 122 214 220 216 215]\n",
      " [218 212 216 218 139  59  55 145 145  58  56 147 226 213 215 218]\n",
      " [216 221 214 218 176  81  53 105 107  52  88 178 218 217 217 218]\n",
      " [215 213 217 221 204 137  86  71  68  93 139 207 221 215 219 217]\n",
      " [219 215 217 214 221 194 150 136 137 152 201 221 213 220 214 219]\n",
      " [216 212 215 220 212 221 216 177 178 219 221 210 218 216 215 217]]\n",
      "Serpentine of image:\n",
      "[215, 216, 215, 216, 217, 217, 216, 212, 214, 220, 214, 218, 218, 214, 197, 194, 130, 214, 216, 215, 217, 213, 213, 216, 219, 162, 138, 156, 191, 110, 229, 170, 222, 217, 215, 211, 217, 219, 216, 215, 166, 129, 107, 131, 187, 158, 127, 217, 84, 81, 173, 213, 220, 216, 215, 209, 217, 214, 190, 153, 206, 68, 131, 150, 128, 198, 198, 125, 140, 141, 86, 100, 195, 157, 196, 220, 219, 218, 216, 212, 216, 215, 139, 190, 118, 215, 138, 141, 141, 139, 216, 218, 215, 156, 137, 143, 152, 171, 147, 133, 107, 211, 216, 221, 215, 219, 213, 214, 218, 120, 52, 120, 125, 133, 140, 131, 172, 219, 216, 219, 215, 216, 221, 221, 173, 137, 133, 121, 109, 53, 56, 139, 218, 217, 215, 216, 212, 217, 221, 176, 59, 57, 70, 94, 132, 145, 171, 220, 216, 216, 215, 216, 219, 215, 218, 155, 202, 111, 74, 135, 55, 81, 204, 214, 215, 220, 221, 137, 53, 145, 143, 58, 133, 157, 210, 219, 215, 216, 216, 215, 215, 189, 140, 51, 55, 145, 105, 86, 194, 212, 221, 150, 71, 107, 58, 59, 109, 197, 219, 218, 218, 215, 218, 217, 215, 122, 56, 52, 68, 136, 216, 177, 137, 93, 88, 147, 214, 215, 216, 216, 216, 217, 220, 226, 178, 139, 152, 178, 219, 201, 207, 218, 213, 216, 215, 215, 215, 217, 221, 221, 221, 210, 213, 215, 217, 218, 218, 219, 220, 218, 216, 214, 217, 219, 215, 217]\n",
      "Output safe in: /Users/isall/OneDrive/UNI/4_uni/1_trim_4/Audio/video_coding/first_seminar/zig_zag.jpeg\n"
     ]
    }
   ],
   "source": [
    "import numpy as np\n",
    "import cv2\n",
    "import subprocess\n",
    "\n",
    "def load_image(image_path):\n",
    "    return cv2.imread(image_path, cv2.IMREAD_GRAYSCALE)  \n",
    "\n",
    "def serpentine(matrix):\n",
    "    n = matrix.shape[0]  \n",
    "    result = [None] * (n * n)  \n",
    "    \n",
    "    a = 0  \n",
    "    i = 0 \n",
    "    j = 0 \n",
    "    result[a] = matrix[i, j]  # First value\n",
    "    \n",
    "    while a < n * n - 1:  \n",
    "        #step 1: (one to the right)\n",
    "        if j == n - 1:  \n",
    "            i += 1\n",
    "        else:\n",
    "            j += 1\n",
    "\n",
    "        a += 1\n",
    "        if a < n * n:\n",
    "            result[a] = matrix[i, j]\n",
    "        \n",
    "        #step 2: (Diagonal down to the left until reaching j = 0)\n",
    "        while i + 1 < n and j - 1 >= 0 and a < n * n - 1:\n",
    "            i += 1\n",
    "            j -= 1\n",
    "            a += 1\n",
    "            result[a] = matrix[i, j]\n",
    "        \n",
    "        #step 3: (one down)\n",
    "        if i == n - 1:  \n",
    "            j += 1\n",
    "        else:\n",
    "            i += 1\n",
    "\n",
    "        a += 1\n",
    "        if a < n * n:\n",
    "            result[a] = matrix[i, j]\n",
    "        \n",
    "        #step 4: (Diagonal up to the right until reaching i = 0)\n",
    "        while j + 1 < n and i - 1 >= 0 and a < n * n - 1:\n",
    "            i -= 1\n",
    "            j += 1\n",
    "            a += 1\n",
    "            result[a] = matrix[i, j]\n",
    "    \n",
    "    return result\n",
    "\n",
    "def serpentine_color(image):\n",
    "    \n",
    "    channels = cv2.split(image)\n",
    "    serpentine_results_color = []\n",
    "    \n",
    "    for channel in channels:\n",
    "        serpentine_results_color.append(zigzag_traversal(channel))\n",
    "    \n",
    "    return serpentine_results_color\n",
    "\n",
    "\n",
    "\n",
    "# Inputs and Outputs\n",
    "image = \"/Users/isall/OneDrive/UNI/4_uni/1_trim_4/Audio/video_coding/first_seminar/logo_fcb.jpeg\"\n",
    "input_image = \"/Users/isall/OneDrive/UNI/4_uni/1_trim_4/Audio/video_coding/first_seminar/logo_fcb_resize.jpeg\"\n",
    "resize_image(image, input_image, 16, 16, quality=28)\n",
    "output_image = \"/Users/isall/OneDrive/UNI/4_uni/1_trim_4/Audio/video_coding/first_seminar/zig_zag.jpeg\"\n",
    "\n",
    "\n",
    "#We load the resize image in BW\n",
    "image_matrix = load_image(input_image)\n",
    "\n",
    "if image_matrix is None:\n",
    "    print(\"Error loading the image\")\n",
    "else:\n",
    "    # Print the matrix to then check it the convertion is done well. \n",
    "    print(\"Original Matrix in Black and White:\")\n",
    "    print(image_matrix)\n",
    "\n",
    "\n",
    "# Check if it's a nxn matrix\n",
    "if image_matrix is None:\n",
    "    print(\"Error loading the image\")\n",
    "else:\n",
    "    assert image_matrix.shape[0] == image_matrix.shape[1], \"The resize image is not nxn.\"\n",
    "\n",
    "    serpentine_result = serpentine(image_matrix)\n",
    "\n",
    "    print(\"Serpentine of image:\")\n",
    "    print(serpentine_result)\n",
    "\n",
    "    n = image_matrix.shape[0]\n",
    "    serpentine_image = np.array(serpentine_result).reshape((n, n))\n",
    "\n",
    "    # Safe the output\n",
    "    cv2.imwrite(output_image, serpentine_image)\n",
    "    print(f\"Output safe in: {output_image}\")"
   ]
  },
  {
   "cell_type": "markdown",
   "metadata": {},
   "source": [
    "**Exercise 4**"
   ]
  },
  {
   "cell_type": "code",
   "execution_count": null,
   "metadata": {},
   "outputs": [],
   "source": []
  }
 ],
 "metadata": {
  "colab": {
   "authorship_tag": "ABX9TyMRLfTamI1Guef8I/9SvpXQ",
   "mount_file_id": "1zG2m0ccomnArDcFgJIhztc_vM1FDdex0",
   "provenance": []
  },
  "kernelspec": {
   "display_name": "Python 3",
   "name": "python3"
  },
  "language_info": {
   "codemirror_mode": {
    "name": "ipython",
    "version": 3
   },
   "file_extension": ".py",
   "mimetype": "text/x-python",
   "name": "python",
   "nbconvert_exporter": "python",
   "pygments_lexer": "ipython3",
   "version": "3.10.0"
  }
 },
 "nbformat": 4,
 "nbformat_minor": 0
}
