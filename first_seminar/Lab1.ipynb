{
 "cells": [
  {
   "cell_type": "markdown",
   "metadata": {
    "id": "PUkA7KW-vKAq"
   },
   "source": [
    "# Seminar_1 "
   ]
  },
  {
   "cell_type": "markdown",
   "metadata": {},
   "source": [
    "Exercise 1"
   ]
  },
  {
   "cell_type": "code",
   "execution_count": 1,
   "metadata": {},
   "outputs": [],
   "source": [
    "class RGBto_YUV:\n",
    "    def YUV_to_RGB(Y, U,V):\n",
    "        B = round(1.163 * (Y -16) + 2.018 * (U - 128))\n",
    "        G = round(1.164 * (Y - 16) - 0.813 * (V - 128) - 0.391 * (U - 128))\n",
    "        R = round(1.164 * (Y - 16) + 1.596 * (V - 128)) \n",
    "        return(R, G, B)\n",
    "    \n",
    "    def RGB_to_YUV(R,G,B):\n",
    "        Y = round(0.257 * R + 0.504 * G + 0.098 * B +16)\n",
    "        U = round(-0.148 * R - 0.291 * G + 0.439 * B +128)\n",
    "        V = round(0.439 * R - 0.368 * G - 0.071 * B +128)\n",
    "        return(Y,U,V)\n",
    "        "
   ]
  },
  {
   "cell_type": "code",
   "execution_count": 2,
   "metadata": {},
   "outputs": [
    {
     "name": "stdout",
     "output_type": "stream",
     "text": [
      "Valores RGB: R = 98, G = 98, B = 98\n"
     ]
    }
   ],
   "source": [
    "Y, U, V = 100, 128, 128\n",
    "\n",
    "# Convertir YUV a RGB\n",
    "R, G, B = RGBto_YUV.YUV_to_RGB(Y, U, V)\n",
    "print(f\"Valores RGB: R = {R}, G = {G}, B = {B}\")"
   ]
  },
  {
   "cell_type": "code",
   "execution_count": 3,
   "metadata": {},
   "outputs": [
    {
     "name": "stdout",
     "output_type": "stream",
     "text": [
      "Valores YUV: Y = 100, U = 128, V = 128\n"
     ]
    }
   ],
   "source": [
    "# Convertir RGB a YUV\n",
    "Y, U, V = RGBto_YUV.RGB_to_YUV(R, G, B)\n",
    "print(f\"Valores YUV: Y = {Y}, U = {U}, V = {V}\")"
   ]
  },
  {
   "cell_type": "markdown",
   "metadata": {},
   "source": [
    "Exercise 2"
   ]
  },
  {
   "cell_type": "code",
   "execution_count": 5,
   "metadata": {},
   "outputs": [
    {
     "name": "stdout",
     "output_type": "stream",
     "text": [
      "\n",
      "Resized image saved to /Users/viktoriaolmedo/Downloads/resized_image.png\n"
     ]
    }
   ],
   "source": [
    "import subprocess\n",
    "\n",
    "input_image = \"/Users/viktoriaolmedo/Downloads/escut-barca.png\"\n",
    "output_image = \"/Users/viktoriaolmedo/Downloads/resized_image.png\"\n",
    "\n",
    "#modificar per path de cada ordinador\n",
    "\n",
    "\n",
    "def resize_image(input_image, output_image, width, height, quality = 28):\n",
    "\n",
    "    command = [\"ffmpeg\",\"-y\",\"-loglevel\", \"info\",\"-i\", input_image,\"-vf\", f\"scale={width}:{height}\",output_image ]\n",
    "\n",
    "    try:\n",
    "        result = subprocess.run(command, check=True, stdout=subprocess.PIPE, stderr=subprocess.PIPE, text=True)\n",
    "        print(result.stdout)\n",
    "        print(f\"Resized image saved to {output_image}\")\n",
    "    except subprocess.CalledProcessError as e:\n",
    "        print(\"Error ocurred while running FFmpeg\", e.stderr)\n",
    "\n",
    "\n",
    "#ffmpeg -i input.jpg -vf scale=320:240 output_320x240.png\n",
    "\n",
    "resize_image(input_image, output_image, 320, 240, quality=28)"
   ]
  },
  {
   "cell_type": "markdown",
   "metadata": {},
   "source": [
    "Exercise 3"
   ]
  },
  {
   "cell_type": "code",
   "execution_count": null,
   "metadata": {},
   "outputs": [],
   "source": []
  }
 ],
 "metadata": {
  "colab": {
   "authorship_tag": "ABX9TyMRLfTamI1Guef8I/9SvpXQ",
   "mount_file_id": "1zG2m0ccomnArDcFgJIhztc_vM1FDdex0",
   "provenance": []
  },
  "kernelspec": {
   "display_name": "Python 3",
   "name": "python3"
  },
  "language_info": {
   "codemirror_mode": {
    "name": "ipython",
    "version": 3
   },
   "file_extension": ".py",
   "mimetype": "text/x-python",
   "name": "python",
   "nbconvert_exporter": "python",
   "pygments_lexer": "ipython3",
   "version": "3.9.6"
  }
 },
 "nbformat": 4,
 "nbformat_minor": 0
}
